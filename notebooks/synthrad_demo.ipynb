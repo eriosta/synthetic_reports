{
 "cells": [
  {
   "cell_type": "markdown",
   "metadata": {},
   "source": [
    "# SynthRad Demo: Synthetic Radiology Report Generation\n",
    "\n",
    "This notebook demonstrates how to use the `synthrad` package to generate synthetic lung cancer CT reports.\n",
    "\n",
    "## Prerequisites\n",
    "\n",
    "Before running this notebook, ensure you have the required dependencies:\n",
    "\n",
    "```bash\n",
    "# From project root:\n",
    "pip install -e .\n",
    "pip install -r notebooks/requirements.txt\n",
    "```"
   ]
  },
  {
   "cell_type": "code",
   "execution_count": 4,
   "metadata": {},
   "outputs": [
    {
     "name": "stdout",
     "output_type": "stream",
     "text": [
      "✅ SynthRad imported successfully!\n"
     ]
    }
   ],
   "source": [
    "# Import libraries\n",
    "import sys, os\n",
    "from pathlib import Path\n",
    "\n",
    "# Add project source to path\n",
    "sys.path.insert(0, str(Path.cwd().parent / 'src'))\n",
    "\n",
    "# Import synthrad\n",
    "from synthrad.generator import generate_case, generate_report\n",
    "from synthrad.generator import generate_patient_timeline, write_case\n",
    "\n",
    "print('✅ SynthRad imported successfully!')"
   ]
  },
  {
   "cell_type": "markdown",
   "metadata": {},
   "source": [
    "## 1. Basic Case Generation\n",
    "\n",
    "Let's start by generating a single synthetic lung cancer case."
   ]
  },
  {
   "cell_type": "code",
   "execution_count": 6,
   "metadata": {},
   "outputs": [
    {
     "name": "stdout",
     "output_type": "stream",
     "text": [
      "Patient: DEMO01\n",
      "Visit Number: 1\n",
      "Accession: 20201209356787\n",
      "Primary tumor: RML lobe, 72mm\n",
      "Features: ['spiculation']\n",
      "TNM: T3/N2/M0 → Stage III\n",
      "Rationale: ['T3 because >70 mm', 'N1: station 11L short-axis ≥10 mm (14 mm)', 'N2: station 4L short-axis ≥10 mm (15 mm)', 'N1: station 10R short-axis ≥10 mm (12 mm)', 'No definite distant metastases identified']\n"
     ]
    }
   ],
   "source": [
    "# Generate a case\n",
    "case = generate_case(\n",
    "    seed=42,\n",
    "    stage_dist={\"I\": 0.3, \"II\": 0.3, \"III\": 0.3, \"IV\": 0.1},\n",
    "    patient_id=\"DEMO01\"\n",
    ")\n",
    "\n",
    "print(f\"Patient: {case.meta.patient_id}\")\n",
    "print(f\"Visit Number: {case.meta.visit_number}\")\n",
    "print(f\"Accession: {case.meta.accession_number}\")\n",
    "if case.primary:\n",
    "    print(f\"Primary tumor: {case.primary.lobe} lobe, {case.primary.size_mm}mm\")\n",
    "    print(f\"Features: {case.primary.features}\")\n",
    "print(f\"TNM: {case.tnm.T}/{case.tnm.N}/{case.tnm.M} → Stage {case.tnm.stage_group}\")\n",
    "print(f\"Rationale: {case.rationale}\")"
   ]
  },
  {
   "cell_type": "code",
   "execution_count": 7,
   "metadata": {},
   "outputs": [
    {
     "name": "stdout",
     "output_type": "stream",
     "text": [
      "=== Generated Radiology Report ===\n",
      "FINDINGS:\n",
      "Motion artifact present.\n",
      "Lungs:\n",
      "  72 mm right middle lobe mass with irregular, spiculated contour spiculated margins.\n",
      "Lymph nodes:\n",
      "  Subcentimeter 11L node measuring 14 mm short-axis.\n",
      "  Subcentimeter 4L node measuring 15 mm short-axis.\n",
      "  Subcentimeter 10R node measuring 12 mm short-axis.\n",
      "Pleura/Pleural spaces: No pleural effusion. \n",
      "Mediastinum: Mediastinum normal.\n",
      "Great vessels/Aorta: Great vessels normal.\n",
      "Upper abdomen (limited): Abdomen unremarkable.\n",
      "Bones/Osseous structures: Bones unremarkable.\n",
      "Metastatic survey: No definite distant metastases identified.\n",
      "\n",
      "IMPRESSION:\n",
      "- Primary lung neoplasm in the right middle lobe measuring approximately 72 mm.\n",
      "- Nodal disease as detailed above.\n",
      "- No definite distant metastases identified.\n"
     ]
    }
   ],
   "source": [
    "# Generate the radiology report\n",
    "report = generate_report(case)\n",
    "print(\"=== Generated Radiology Report ===\")\n",
    "print(report)"
   ]
  },
  {
   "cell_type": "markdown",
   "metadata": {},
   "source": [
    "## 2. Advanced Parameters\n",
    "\n",
    "Explore how different parameters affect case generation."
   ]
  },
  {
   "cell_type": "code",
   "execution_count": 6,
   "metadata": {},
   "outputs": [
    {
     "name": "stdout",
     "output_type": "stream",
     "text": [
      "=== Stage I Cases ===\n",
      "Patient STAGEI_00: I stage, 19mm tumor\n",
      "Patient STAGEI_01: I stage, 26mm tumor\n",
      "Patient STAGEI_02: II stage, 36mm tumor\n"
     ]
    }
   ],
   "source": [
    "# Generate cases with specific stage distributions\n",
    "stage_i_cases = []\n",
    "for seed in range(100, 103):\n",
    "    case = generate_case(seed=seed, stage_dist={\"I\": 1.0}, patient_id=f\"STAGEI_{seed-100:02d}\")\n",
    "    stage_i_cases.append(case)\n",
    "\n",
    "print(\"=== Stage I Cases ===\")\n",
    "for case in stage_i_cases:\n",
    "    if case.primary:\n",
    "        print(f\"Patient {case.meta.patient_id}: {case.tnm.stage_group} stage, {case.primary.size_mm}mm tumor\")"
   ]
  },
  {
   "cell_type": "markdown",
   "metadata": {},
   "source": [
    "## 3. Patient Timelines\n",
    "\n",
    "Generate follow-up studies for a patient over time."
   ]
  },
  {
   "cell_type": "code",
   "execution_count": 8,
   "metadata": {},
   "outputs": [
    {
     "name": "stdout",
     "output_type": "stream",
     "text": [
      "=== Patient Timeline (P001) ===\n",
      "Study 1 (2023-12-05): Stage III\n",
      "  Primary: LUL lobe, 27mm\n",
      "  Nodes: 1 enlarged nodes\n",
      "\n",
      "Study 2 (2024-05-02): Stage I\n",
      "  Primary: LUL lobe, 10mm\n",
      "\n",
      "Study 3 (2024-09-05): Stage I\n",
      "  Primary: LUL lobe, 6mm\n",
      "\n",
      "Study 4 (2024-11-01): Stage I\n",
      "  Primary: LUL lobe, 5mm\n",
      "\n",
      "Study 5 (2025-04-26): Stage I\n",
      "  Primary: LUL lobe, 5mm\n",
      "\n"
     ]
    }
   ],
   "source": [
    "# Generate a complete patient timeline\n",
    "cases, dates = generate_patient_timeline(\n",
    "    patient_id=\"P001\",\n",
    "    seed=500,\n",
    "    stage_dist={\"I\": 0.2, \"II\": 0.3, \"III\": 0.3, \"IV\": 0.2},\n",
    "    max_studies=4,\n",
    "    response_dist={\"CR\": 0.1, \"PR\": 0.3, \"SD\": 0.4, \"PD\": 0.2}\n",
    ")\n",
    "\n",
    "print(\"=== Patient Timeline (P001) ===\")\n",
    "for i, (case, date) in enumerate(zip(cases, dates)):\n",
    "    date_str = date.strftime(\"%Y-%m-%d\")\n",
    "    visit_num = case.meta.visit_number\n",
    "    stage = case.tnm.stage_group\n",
    "    print(f\"Study {visit_num} ({date_str}): Stage {stage}\")\n",
    "    if case.primary:\n",
    "        print(f\"  Primary: {case.primary.lobe} lobe, {case.primary.size_mm}mm\")\n",
    "    if case.nodes:\n",
    "        print(f\"  Nodes: {len(case.nodes)} enlarged nodes\")\n",
    "    if case.mets:\n",
    "        print(f\"  Metastases: {len(case.mets)} sites\")\n",
    "    print()"
   ]
  },
  {
   "cell_type": "markdown",
   "metadata": {},
   "source": [
    "## 4. Data Analysis\n",
    "\n",
    "Convert cases to JSON format for analysis."
   ]
  },
  {
   "cell_type": "code",
   "execution_count": 11,
   "metadata": {},
   "outputs": [
    {
     "name": "stdout",
     "output_type": "stream",
     "text": [
      "Generated 5 study entries\n",
      "\n",
      "=== First Entry ===\n",
      "{\n",
      "  \"patient_id\": \"P001\",\n",
      "  \"timepoint\": 0,\n",
      "  \"study_date\": \"2023-12-05\",\n",
      "  \"baseline_sld_mm\": 45,\n",
      "  \"current_sld_mm\": null,\n",
      "  \"nadir_sld_mm\": null,\n",
      "  \"overall_response\": \"SD\",\n",
      "  \"lesions\": [\n",
      "    {\n",
      "      \"lesion_id\": \"primary_LUL\",\n",
      "      \"kind\": \"primary\",\n",
      "      \"organ\": \"lung\",\n",
      "      \"location\": \"LUL\",\n",
      "      \"rule\": \"longest\",\n",
      "      \"baseline_mm\": 27,\n",
      "      \"follow_mm\": null,\n",
      "      \"size_mm_current\": 27,\n",
      "      \"margin\": \"spiculated\",\n",
      "      \"enhancement\": \"enhancing\",\n",
      "      \"necrosis\": false,\n",
      "      \"suspicious\": true,\n",
      "      \"target\": true\n",
      "    },\n",
      "    {\n",
      "      \"lesion_id\": \"ln_2L_0\",\n",
      "      \"kind\": \"ln\",\n",
      "      \"organ\": \"lymph_node\",\n",
      "      \"station\": \"2L\",\n",
      "      \"rule\": \"short_axis\",\n",
      "      \"baseline_mm\": 18,\n",
      "      \"follow_mm\": null,\n",
      "      \"size_mm_current\": 18,\n",
      "      \"margin\": \"smooth\",\n",
      "      \"enhancement\": \"enhancing\",\n",
      "      \"necrosis\": false,\n",
      "      \"suspicious\": true,\n",
      "      \"target\": true\n",
      "    }\n",
      "  ]\n",
      "}\n"
     ]
    }
   ],
   "source": [
    "# Convert timeline to JSON\n",
    "from synthrad.generator import case_to_recist_jsonl\n",
    "import json\n",
    "\n",
    "jsonl_data = case_to_recist_jsonl(cases, dates)\n",
    "print(f\"Generated {len(jsonl_data)} study entries\")\n",
    "print()\n",
    "print(\"=== First Entry ===\")\n",
    "print(json.dumps(jsonl_data[0], indent=2))"
   ]
  },
  {
   "cell_type": "markdown",
   "metadata": {},
   "source": [
    "## 5. File Output\n",
    "\n",
    "Save cases to files with text reports and JSON sidecars."
   ]
  },
  {
   "cell_type": "code",
   "execution_count": 12,
   "metadata": {},
   "outputs": [
    {
     "name": "stdout",
     "output_type": "stream",
     "text": [
      "Case saved to files:\n",
      "  📄 P001\n"
     ]
    }
   ],
   "source": [
    "# Save a case to files\n",
    "output_dir = \"demo_output\"\n",
    "os.makedirs(output_dir, exist_ok=True)\n",
    "\n",
    "# Write case\n",
    "write_case(case=case, outdir=output_dir, stem=\"example_case\", use_radlex=False)\n",
    "\n",
    "print(\"Case saved to files:\")\n",
    "if os.path.exists(output_dir):\n",
    "    for file in os.listdir(output_dir):\n",
    "        print(f\"  📄 {file}\")"
   ]
  },
  {
   "cell_type": "markdown",
   "metadata": {},
   "source": [
    "## Summary\n",
    "\n",
    "This notebook demonstrated how to:\n",
    "- Generate synthetic radiology reports\n",
    "- Use different parameters for customization\n",
    "- Create patient timelines with follow-up studies\n",
    "- Extract structured data for analysis\n",
    "- Save cases to files\n",
    "\n",
    "For more examples, see the generated docs and README.md."
   ]
  }
 ],
 "metadata": {
  "kernelspec": {
   "display_name": "base",
   "language": "python",
   "name": "python3"
  },
  "language_info": {
   "codemirror_mode": {
    "name": "ipython",
    "version": 3
   },
   "file_extension": ".py",
   "mimetype": "text/x-python",
   "name": "python",
   "nbconvert_exporter": "python",
   "pygments_lexer": "ipython3",
   "version": "3.10.8"
  }
 },
 "nbformat": 4,
 "nbformat_minor": 4
}
